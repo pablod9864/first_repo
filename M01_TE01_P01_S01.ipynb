{
  "nbformat": 4,
  "nbformat_minor": 0,
  "metadata": {
    "colab": {
      "name": "M01_TE01_P01_S01.ipynb",
      "provenance": [],
      "collapsed_sections": [],
      "toc_visible": true
    },
    "kernelspec": {
      "name": "python3",
      "display_name": "Python 3"
    }
  },
  "cells": [
    {
      "cell_type": "markdown",
      "metadata": {
        "id": "6Zxy71cZ4V2v"
      },
      "source": [
        "# Módulo 01: Programación\n",
        "# Práctica 1: Python\n",
        "# Sesión 1: Elementos básicos de Python"
      ]
    },
    {
      "cell_type": "code",
      "metadata": {
        "id": "jzm6A78Ds8xB",
        "colab": {
          "base_uri": "https://localhost:8080/"
        },
        "outputId": "f0cbc81a-7ceb-4897-d2da-a6cdec218e1e"
      },
      "source": [
        "import sys\n",
        "print(\"Python version\")\n",
        "print (sys.version)"
      ],
      "execution_count": 6,
      "outputs": [
        {
          "output_type": "stream",
          "name": "stdout",
          "text": [
            "Python version\n",
            "3.7.12 (default, Sep 10 2021, 00:21:48) \n",
            "[GCC 7.5.0]\n"
          ]
        }
      ]
    },
    {
      "cell_type": "markdown",
      "metadata": {
        "id": "E2NuacFPMjZL"
      },
      "source": [
        "**1) Adivina numero.**\n",
        "\n",
        "Admin introduce un número y lo almacena en una variable.\n",
        "\n",
        "Pide al usuario que adivine un número. Si el usuario se equivoca, se le indica si el numero es mayor o menor. \n",
        "\n",
        "El programa termina cuando el usuario ha adivinado el número."
      ]
    },
    {
      "cell_type": "markdown",
      "metadata": {
        "id": "fWC3OmWaMlff"
      },
      "source": [
        "**Ejemplo**:\n",
        "\n",
        "introduzca numero: ***\n",
        "\n",
        "adivine numero: 5\n",
        "\n",
        "Intento erróneo. El número a adivinar es mayor.\n",
        "\n",
        "adivine numero: 10\n",
        "\n",
        "Intento erróneo. El número a adivinar es mayor.\n",
        "\n",
        "adivine numero: 20.\n",
        "\n",
        "Ha acertado el número!"
      ]
    },
    {
      "cell_type": "markdown",
      "metadata": {
        "id": "pkDvi88oM-uP"
      },
      "source": [
        "**2) Adivina número con intentos finitos.**\n",
        "\n",
        "Admin introduce un número a adivinar y un número máximo de intentos para adivinarlo.\n",
        "\n",
        "Pide al usuario que adivine un número. Si el usuario se equivoca, se le indica si el numero es mayor o menor y el número de intentos restantes.\n",
        "\n",
        "El programa termina cuando el usuario ha adivinado el número o si se supera el máximo número de intentos. Al final independientemente de haber adivinado o no, muestra los intentos insertados."
      ]
    },
    {
      "cell_type": "markdown",
      "metadata": {
        "id": "kEvJ3FQ0NAUn"
      },
      "source": [
        "Ejemplo:\n",
        "\n",
        "introduzca numero: ***\n",
        "\n",
        "introduzca intentos permitidos: 10\n",
        "\n",
        "adivine numero: 5\n",
        "\n",
        "Intento erróneo. El número a adivinar es mayor. 9 intentos disponibles.\n",
        "\n",
        "adivine numero: 10\n",
        "\n",
        "Intento erróneo. El número a adivinar es mayor. 8 intentos disponibles.\n",
        "\n",
        "adivine numero: 20.\n",
        "\n",
        "Ha acertado el número! Los intentos fueron los siguientes: 5, 10, 20. "
      ]
    },
    {
      "cell_type": "markdown",
      "metadata": {
        "id": "RPgP_spQNK_R"
      },
      "source": [
        "**3) Adivina palabra.**\n",
        "\n",
        "Admin introduce una palabra a adivinar y un número máximo de intentos para adivinarlo.\n",
        "\n",
        "Pide al usuario adivinar la longitud de la palabra (ej1).  Si el usuario se equivoca, se le indica si el numero es mayor o menor y el número de intentos restantes.\n",
        "\n",
        "Pide al usuario letras o adivinar palabra:\n",
        "*   Letra: Muestra al usuario las letras que se van adivinando. Si se equivoca se resta 1 intento.\n",
        "*   Adivinar palabra: Si se equivoca se resta 1 intento.\n",
        "\n",
        "El programa termina cuando el usuario ha adivinado la palabra o si se supera el máximo número de intentos. Al final independientemente de haber adivinado o no, muestra los intentos insertados."
      ]
    },
    {
      "cell_type": "markdown",
      "metadata": {
        "id": "65tIUFOpNPhp"
      },
      "source": [
        "**Ejemplo:**\n",
        "\n",
        "introduzca palabra: ***\n",
        "\n",
        "introduzca intentos permitidos: 10\n",
        "\n",
        "adivine numero de letras: 2\n",
        "\n",
        "Intento erróneo. El número a adivinar es mayor. 9 intentos disponibles.\n",
        "\n",
        "adivine numero de letras: 3\n",
        "\n",
        "Intento erróneo. El número a adivinar es mayor. 8 intentos disponibles.\n",
        "\n",
        "adivine numero de letras: 4.\n",
        "\n",
        "Ha acertado el número! La palabra tiene 4 letras:\n",
        "\n",
        "adivine letra introduzca 1\n",
        "\n",
        "adivine palabra introduzca 0:\n",
        "\n",
        "1\n",
        "\n",
        "adivine letra: z.\n",
        "\n",
        "Intento erróneo. No existe la letra. * * * *. 7 intentos disponibles.\n",
        "\n",
        "adivine letra introduzca 1\n",
        "\n",
        "adivine palabra introduzca 0:\n",
        "\n",
        "1\n",
        "\n",
        "adivine letra: g.\n",
        "\n",
        "Intento correcto. Existe la letra. g * * *. 7 intentos disponibles.\n",
        "\n",
        "adivine letra introduzca 1\n",
        "\n",
        "adivine palabra introduzca 0:\n",
        "\n",
        "1\n",
        "\n",
        "adivine letra: o.\n",
        "\n",
        "Intento correcto. Existe la letra. g * * o. 7 intentos disponibles.\n",
        "\n",
        "adivine letra introduzca 1\n",
        "\n",
        "adivine palabra introduzca 0:\n",
        "\n",
        "0\n",
        "\n",
        "adivine palabra: gato.\n",
        "\n",
        "Ha acertado la palabra!\n",
        "\n",
        "Los intentos numero de letras fueron los siguientes: 2, 3, 4.\n",
        "\n",
        "Los intentos de letras fueron los siguientes: z, g, o.\n",
        "\n",
        "Los intentos de palabras fueron los siguientes: gato."
      ]
    },
    {
      "cell_type": "markdown",
      "metadata": {
        "id": "dun93L79Nhvk"
      },
      "source": [
        "**4) Adivina frase.**\n",
        "\n",
        "Admin introduce una frase a adivinar y un número máximo de intentos para adivinarlo.\n",
        "\n",
        "Pide al usuario adivinar el número de palabras (ej1) en la frase.  Si el usuario se equivoca, se le indica si el numero es mayor o menor y el número de intentos restantes.\n",
        "\n",
        "Pide al usuario si desea adivinar letras o palabras:\n",
        " \n",
        "\n",
        "*   Letras: Se pide la letra. Muestra al usuario las letras que se van adivinando en la frase. Si se equivoca se resta 1 intento.\n",
        "*   Palabras: Se pide la palabra. Muestra al usuario las palabras que se van adivinando en la frase. Si se equivoca se resta 1 intento.\n",
        "*   Adivinar frase: Si se equivoca se resta 1 intento.\n",
        "\n",
        "\n",
        "El programa termina cuando el usuario ha adivinado la frase o si se supera el máximo número de intentos. Al final independientemente de haber adivinado o no, muestra los intentos insertados por tipo letra o palabra."
      ]
    },
    {
      "cell_type": "markdown",
      "metadata": {
        "id": "vHmFiCTRN6xa"
      },
      "source": [
        "**Ejemplo:**\n",
        "\n",
        "introduzca frase: *** (el gato come)\n",
        "\n",
        "introduzca intentos permitidos: 10\n",
        "\n",
        "adivine numero de palabras: 2\n",
        "\n",
        "Intento erróneo. El número a adivinar es mayor. 9 intentos disponibles.\n",
        "\n",
        "adivine numero de palabras: 3\n",
        "\n",
        "Ha acertado el número! La frase tiene 3 palabras:\n",
        "\n",
        "adivine letra introduzca 2\n",
        "\n",
        "adivine palabra introduzca 1\n",
        "\n",
        "adivine frase introduzca 0:\n",
        "\n",
        "2\n",
        "\n",
        "adivine letra: z.\n",
        "\n",
        "Intento erróneo. No existe la letra. ++  ++++ ++++ . 8 intentos disponibles.\n",
        "\n",
        "adivine letra introduzca 2\n",
        "\n",
        "adivine palabra introduzca 1\n",
        "\n",
        "adivine frase introduzca 0:\n",
        "\n",
        "2\n",
        "\n",
        "adivine letra: o.\n",
        "\n",
        "Intento correcto. Existe la letra. ++  +++o +o++. 8 intentos disponibles.\n",
        "\n",
        "adivine letra introduzca 2\n",
        "\n",
        "adivine palabra introduzca 1\n",
        "\n",
        "adivine frase introduzca 0:\n",
        "\n",
        "1\n",
        "\n",
        "adivine palabra: gato.\n",
        "\n",
        "Intento correcto. Existe la palabra. ++  gato +o++. 8 intentos disponibles.\n",
        "\n",
        "adivine letra introduzca 2\n",
        "\n",
        "adivine palabra introduzca 1\n",
        "\n",
        "adivine frase introduzca 0:\n",
        "\n",
        "0\n",
        "\n",
        "adivine frase: el gato come.\n",
        "\n",
        "Ha acertado la frase!\n",
        "\n",
        "Los intentos numero de letras fueron los siguientes: 2, 3.\n",
        "\n",
        "Los intentos de letras fueron los siguientes: z, o.\n",
        "\n",
        "Los intentos de palabras fueron los siguientes: gato.\n",
        "\n",
        "Los intentos de frase fueron los siguientes: el gato come."
      ]
    },
    {
      "cell_type": "markdown",
      "metadata": {
        "id": "0tjxwA8dPQC6"
      },
      "source": [
        "**5) Adivina frase + puntos / comodines.**\n",
        "\n",
        "Admin introduce una frase a adivinar, un número máximo de intentos para adivinarlo, una puntuación inicial, una puntuación por acierto, una puntuación por error y una puntuación por comodin.\n",
        "\n",
        "Pide al usuario adivinar el número de palabras (ej1) en la frase. Si el usuario se equivoca, se le indica si el numero es mayor o menor y el número de intentos restantes así como los puntos restantes.\n",
        "\n",
        "Pide al usuario si desea adivinar letras o palabras:\n",
        " \n",
        "\n",
        "*   Letras: Se pide la letra. Muestra al usuario las letras que se van adivinando en la frase. Si se equivoca se resta 1 intento.\n",
        "*   Palabras: Se pide la palabra. Muestra al usuario las palabras que se van adivinando en la frase. Si se equivoca se resta 1 intento.\n",
        "*   Adivinar frase: Si se equivoca se resta 1 intento.\n",
        "*   Comodin: Se muestra al usuario los valores únicos de letras pendientes de adivinar que hay en la frase y se le pide que letra desea desbloquear. Se desbloquean las letras. Se le resta la puntuación de comodín.\n",
        " \n",
        "Si el usuario acierta una letra o palabra, se le suma la puntuación por acierto.\n",
        "\n",
        "Si el usuario se equivoca una letra o palabra, se le resta la puntuación por error.\n",
        "\n",
        "El programa termina cuando el usuario ha adivinado la frase, si se supera el máximo número de intentos o si se ha perdido todas las puntuaciones. Al final independientemente de haber adivinado o no, muestra los intentos insertados por tipo letra,palabra, frase y comodín."
      ]
    },
    {
      "cell_type": "markdown",
      "metadata": {
        "id": "sKFLSCCEQUwA"
      },
      "source": [
        "## Evaluación\n",
        "Ejercicio 1 -> 2.5 puntos\n",
        "\n",
        "Ejercicio 2 -> 2.5 puntos\n",
        "\n",
        "Ejercicio 3 -> 2.5 puntos\n",
        "\n",
        "Ejercicio 4 -> 2.5 puntos\n",
        "\n",
        "Ejercicio 5 -> extra 1 punto"
      ]
    },
    {
      "cell_type": "code",
      "metadata": {
        "colab": {
          "base_uri": "https://localhost:8080/"
        },
        "id": "K63xLyfgcIVi",
        "outputId": "f339bcd9-0dae-4b0c-bf18-197c09fa10cb"
      },
      "source": [
        "numero = input(\"Introduce número:\")\n",
        "print(int(numero)+10)"
      ],
      "execution_count": 4,
      "outputs": [
        {
          "output_type": "stream",
          "name": "stdout",
          "text": [
            "Introduce número:6\n",
            "16\n"
          ]
        }
      ]
    },
    {
      "cell_type": "code",
      "metadata": {
        "id": "VYCNT8f3dLtD"
      },
      "source": [
        ""
      ],
      "execution_count": null,
      "outputs": []
    }
  ]
}